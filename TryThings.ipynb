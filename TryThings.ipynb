{
 "cells": [
  {
   "cell_type": "markdown",
   "metadata": {},
   "source": [
    "Try Cosine Similarity"
   ]
  },
  {
   "cell_type": "code",
   "execution_count": 1,
   "metadata": {},
   "outputs": [
    {
     "name": "stdout",
     "output_type": "stream",
     "text": [
      "Cosine Similarity: 0.31787675941292726\n"
     ]
    }
   ],
   "source": [
    "\n",
    "import numpy as np\n",
    "\n",
    "def cosine_similarity(a, b):\n",
    "    # Convert lists to numpy arrays\n",
    "    a = np.array(a)\n",
    "    b = np.array(b)\n",
    "    \n",
    "    # Compute the dot product\n",
    "    dot_product = np.dot(a, b)\n",
    "    \n",
    "    # Compute the magnitudes of the vectors\n",
    "    magnitude_a = np.linalg.norm(a)\n",
    "    magnitude_b = np.linalg.norm(b)\n",
    "    \n",
    "    # Compute the cosine similarity\n",
    "    if magnitude_a == 0 or magnitude_b == 0:\n",
    "        return 0.0  # To handle the case of zero magnitude vectors\n",
    "    cosine_sim = dot_product / (magnitude_a * magnitude_b)\n",
    "    \n",
    "    return cosine_sim\n",
    "\n",
    "# Example usage\n",
    "a = [1, 2, 3]\n",
    "b = [4, 5, 6]\n",
    "a = [15496, 11, 314, 1101, 257, 3303, 2746, 11, 407, 257, 1430, 13, 198, 198, 2396, 428, 3329, 314, 2067, 11065, 329, 262, 2720, 287, 262, 2248, 13, 770, 373, 407]\n",
    "b = [15496, 11, 314, 1101, 257, 3303, 2746, 11, 290, 530, 286, 262, 1388, 1243, 326, 46293, 502, 618, 484, 2251, 8950, 318, 703, 2562, 340, 4329, 284, 2251, 1223, 326]\n",
    "\n",
    "similarity = cosine_similarity(a, b)\n",
    "print(f\"Cosine Similarity: {similarity}\")\n"
   ]
  },
  {
   "cell_type": "markdown",
   "metadata": {},
   "source": [
    "Difference tokenizers"
   ]
  },
  {
   "cell_type": "code",
   "execution_count": 4,
   "metadata": {},
   "outputs": [],
   "source": [
    "from transformers import GPT2LMHeadModel, GPT2Tokenizer\n",
    "tokenizer = GPT2Tokenizer.from_pretrained(\"gpt2-medium\")\n",
    "input_text = \"What is the full name of USA?\"\n",
    "tokens = tokenizer.encode(input_text, return_tensors='pt').to('cuda')\n",
    "print(tokens)\n",
    "from transformers import BertTokenizer, RobertaModel\n",
    "# Load BERT tokenizer\n",
    "tokenizer = BertTokenizer.from_pretrained('bert-base-uncased')\n",
    "# Tokenize input\n",
    "tokens = tokenizer(input_text, return_tensors='pt').to('cuda')\n",
    "print(tokens)"
   ]
  }
 ],
 "metadata": {
  "kernelspec": {
   "display_name": "myenv",
   "language": "python",
   "name": "python3"
  },
  "language_info": {
   "codemirror_mode": {
    "name": "ipython",
    "version": 3
   },
   "file_extension": ".py",
   "mimetype": "text/x-python",
   "name": "python",
   "nbconvert_exporter": "python",
   "pygments_lexer": "ipython3",
   "version": "3.6.8"
  }
 },
 "nbformat": 4,
 "nbformat_minor": 2
}
